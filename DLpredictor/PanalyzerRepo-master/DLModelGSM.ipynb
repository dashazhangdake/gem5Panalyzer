{
 "cells": [
  {
   "cell_type": "code",
   "execution_count": 1,
   "metadata": {},
   "outputs": [],
   "source": [
    "import pandas as pd\n",
    "\n",
    "import numpy as np\n",
    "import matplotlib.pyplot as plt\n",
    "\n",
    "import tensorflow as tf\n",
    "from tensorflow.keras.layers import Input, Dense, LSTM, Dropout, BatchNormalization\n",
    "from tensorflow.keras.models import Model\n",
    "\n",
    "from tensorflow.keras.optimizers import Adam\n",
    "\n",
    "from tensorflow.keras.losses import Huber"
   ]
  },
  {
   "cell_type": "markdown",
   "metadata": {},
   "source": [
    "<h2>Data Viewing</h2>"
   ]
  },
  {
   "cell_type": "code",
   "execution_count": 2,
   "metadata": {},
   "outputs": [],
   "source": [
    "data = pd.read_csv('./data/gsmbaseline_stats.csv')"
   ]
  },
  {
   "cell_type": "code",
   "execution_count": 3,
   "metadata": {},
   "outputs": [
    {
     "data": {
      "text/plain": [
       "Index(['IDX', 'IPC', 'CYCLE', 'INSTNUM', 'REGR', 'REGW', 'ROBR', 'ROBW',\n",
       "       'MEMR', 'MEMW', 'Branches', 'PVF'],\n",
       "      dtype='object')"
      ]
     },
     "execution_count": 3,
     "metadata": {},
     "output_type": "execute_result"
    }
   ],
   "source": [
    "data.keys()"
   ]
  },
  {
   "cell_type": "markdown",
   "metadata": {},
   "source": [
    "<h3>Baseline</h3>"
   ]
  },
  {
   "cell_type": "code",
   "execution_count": 36,
   "metadata": {},
   "outputs": [],
   "source": [
    "totalLength = 6000\n",
    "instnum = np.array(data['INSTNUM'])[0: totalLength].reshape(-1, 1)\n",
    "ipc = np.array(data['IPC'])[0: totalLength].reshape(-1, 1)\n",
    "cycle = np.array(data['CYCLE'])[0: totalLength].reshape(-1, 1)\n",
    "regr = np.array(data['REGR'])[0: totalLength].reshape(-1, 1)\n",
    "regw = np.array(data['REGW'])[0: totalLength].reshape(-1, 1)\n",
    "robr = np.array(data['ROBR'])[0: totalLength].reshape(-1, 1)\n",
    "robw = np.array(data['ROBW'])[0: totalLength].reshape(-1, 1)\n",
    "memr = np.array(data['MEMR'])[0: totalLength].reshape(-1, 1)\n",
    "memw = np.array(data['MEMW'])[0: totalLength].reshape(-1, 1)\n",
    "branches = np.array(data['Branches'])[0: totalLength].reshape(-1, 1)\n",
    "\n",
    "pvf = np.array(data['PVF'])[0: totalLength].reshape(-1, 1)"
   ]
  },
  {
   "cell_type": "code",
   "execution_count": 37,
   "metadata": {},
   "outputs": [],
   "source": [
    "features = np.concatenate((instnum, ipc, cycle, regr, regw, robr, robw, memr, memw, branches), axis=1)\n",
    "target = pvf"
   ]
  },
  {
   "cell_type": "code",
   "execution_count": 38,
   "metadata": {},
   "outputs": [
    {
     "data": {
      "text/plain": [
       "(6000, 10)"
      ]
     },
     "execution_count": 38,
     "metadata": {},
     "output_type": "execute_result"
    }
   ],
   "source": [
    "features.shape"
   ]
  },
  {
   "cell_type": "code",
   "execution_count": 39,
   "metadata": {},
   "outputs": [
    {
     "data": {
      "text/plain": [
       "(6000, 1)"
      ]
     },
     "execution_count": 39,
     "metadata": {},
     "output_type": "execute_result"
    }
   ],
   "source": [
    "target.shape"
   ]
  },
  {
   "cell_type": "code",
   "execution_count": 40,
   "metadata": {},
   "outputs": [
    {
     "data": {
      "text/plain": [
       "[<matplotlib.lines.Line2D at 0x1e04d508220>]"
      ]
     },
     "execution_count": 40,
     "metadata": {},
     "output_type": "execute_result"
    },
    {
     "data": {
      "image/png": "[encoded data removed]",
      "text/plain": [
       "<Figure size 432x288 with 1 Axes>"
      ]
     },
     "metadata": {
      "needs_background": "light"
     },
     "output_type": "display_data"
    }
   ],
   "source": [
    "plt.plot(cycle, pvf)"
   ]
  },
  {
   "cell_type": "code",
   "execution_count": 41,
   "metadata": {},
   "outputs": [],
   "source": [
    "batchSize= 100;\n",
    "num_batches = features.shape[0] / batchSize\n",
    "\n",
    "num_train = int(num_batches * 0.8)\n",
    "num_test = int(num_batches * 0.2)\n",
    "\n",
    "X_train = features[0: batchSize * num_train]\n",
    "y_train = target[0: batchSize * num_train]\n",
    "\n",
    "X_test = features[batchSize * num_train: ]\n",
    "y_test = target[batchSize * num_train: ]\n",
    "\n",
    "X_train = np.array(np.split(X_train, batchSize, axis=0))\n",
    "y_train = np.array(np.split(y_train, batchSize, axis=0))\n",
    "\n",
    "X_test = np.array(np.split(X_test, batchSize, axis=0))\n",
    "y_test = np.array(np.split(y_test, batchSize, axis=0))"
   ]
  },
  {
   "cell_type": "code",
   "execution_count": 42,
   "metadata": {},
   "outputs": [
    {
     "data": {
      "text/plain": [
       "(100, 48, 10)"
      ]
     },
     "execution_count": 42,
     "metadata": {},
     "output_type": "execute_result"
    }
   ],
   "source": [
    "X_train.shape"
   ]
  },
  {
   "cell_type": "code",
   "execution_count": 76,
   "metadata": {},
   "outputs": [],
   "source": [
    "def buildModel(batchSize, featureNum, n_values):\n",
    "    X_input = Input(shape=(batchSize, featureNum))\n",
    "    X = BatchNormalization()(X_input)\n",
    "    \n",
    "    X = LSTM(units=8, return_sequences=True)(X)\n",
    "    X = LSTM(units=1, return_sequences=True)(X)\n",
    "    \n",
    "    output = Dense(n_values, activation='relu')(X)\n",
    "    \n",
    "    model = Model(inputs=X_input, outputs=output)\n",
    "    \n",
    "    return model"
   ]
  },
  {
   "cell_type": "code",
   "execution_count": 77,
   "metadata": {},
   "outputs": [],
   "source": [
    "dlModel = buildModel(batchSize, features.shape[1], 1)"
   ]
  },
  {
   "cell_type": "code",
   "execution_count": 78,
   "metadata": {},
   "outputs": [],
   "source": [
    "dlModel.compile(optimizer=Adam(lr=1e-3), loss=Huber())"
   ]
  },
  {
   "cell_type": "code",
   "execution_count": 79,
   "metadata": {},
   "outputs": [
    {
     "name": "stdout",
     "output_type": "stream",
     "text": [
      "Epoch 1/200\n",
      "WARNING:tensorflow:Model was constructed with shape (None, 100, 10) for input Tensor(\"input_6:0\", shape=(None, 100, 10), dtype=float32), but it was called on an input with incompatible shape (None, 48, 10).\n",
      "WARNING:tensorflow:Model was constructed with shape (None, 100, 10) for input Tensor(\"input_6:0\", shape=(None, 100, 10), dtype=float32), but it was called on an input with incompatible shape (None, 48, 10).\n",
      "3/4 [=====================>........] - ETA: 0s - loss: 0.1041WARNING:tensorflow:Model was constructed with shape (None, 100, 10) for input Tensor(\"input_6:0\", shape=(None, 100, 10), dtype=float32), but it was called on an input with incompatible shape (None, 12, 10).\n",
      "4/4 [==============================] - 2s 436ms/step - loss: 0.1038 - val_loss: 0.1384\n",
      "Epoch 2/200\n",
      "4/4 [==============================] - 0s 29ms/step - loss: 0.0939 - val_loss: 0.1338\n",
      "Epoch 3/200\n",
      "4/4 [==============================] - 0s 25ms/step - loss: 0.0864 - val_loss: 0.0931\n",
      "Epoch 4/200\n",
      "4/4 [==============================] - 0s 40ms/step - loss: 0.0808 - val_loss: 0.0665\n",
      "Epoch 5/200\n",
      "4/4 [==============================] - 0s 32ms/step - loss: 0.0748 - val_loss: 0.0488\n",
      "Epoch 6/200\n",
      "4/4 [==============================] - 0s 28ms/step - loss: 0.0699 - val_loss: 0.0379\n",
      "Epoch 7/200\n",
      "4/4 [==============================] - 0s 29ms/step - loss: 0.0644 - val_loss: 0.0302\n",
      "Epoch 8/200\n",
      "4/4 [==============================] - 0s 37ms/step - loss: 0.0608 - val_loss: 0.0252\n",
      "Epoch 9/200\n",
      "4/4 [==============================] - 0s 65ms/step - loss: 0.0546 - val_loss: 0.0216\n",
      "Epoch 10/200\n",
      "4/4 [==============================] - 0s 62ms/step - loss: 0.0506 - val_loss: 0.0190\n",
      "Epoch 11/200\n",
      "4/4 [==============================] - 0s 42ms/step - loss: 0.0480 - val_loss: 0.0170\n",
      "Epoch 12/200\n",
      "4/4 [==============================] - 0s 42ms/step - loss: 0.0441 - val_loss: 0.0154\n",
      "Epoch 13/200\n",
      "4/4 [==============================] - 0s 47ms/step - loss: 0.0417 - val_loss: 0.0141\n",
      "Epoch 14/200\n",
      "4/4 [==============================] - 0s 38ms/step - loss: 0.0369 - val_loss: 0.0133\n",
      "Epoch 15/200\n",
      "4/4 [==============================] - 0s 40ms/step - loss: 0.0362 - val_loss: 0.0127\n",
      "Epoch 16/200\n",
      "4/4 [==============================] - 0s 39ms/step - loss: 0.0335 - val_loss: 0.0124\n",
      "Epoch 17/200\n",
      "4/4 [==============================] - 0s 34ms/step - loss: 0.0313 - val_loss: 0.0122\n",
      "Epoch 18/200\n",
      "4/4 [==============================] - 0s 31ms/step - loss: 0.0264 - val_loss: 0.0121\n",
      "Epoch 19/200\n",
      "4/4 [==============================] - 0s 31ms/step - loss: 0.0264 - val_loss: 0.0122\n",
      "Epoch 20/200\n",
      "4/4 [==============================] - 0s 37ms/step - loss: 0.0243 - val_loss: 0.0123\n",
      "Epoch 21/200\n",
      "4/4 [==============================] - 0s 38ms/step - loss: 0.0217 - val_loss: 0.0126\n",
      "Epoch 22/200\n",
      "4/4 [==============================] - 0s 48ms/step - loss: 0.0141 - val_loss: 0.0128\n",
      "Epoch 23/200\n",
      "4/4 [==============================] - 0s 44ms/step - loss: 0.0131 - val_loss: 0.0131\n",
      "Epoch 24/200\n",
      "4/4 [==============================] - 0s 36ms/step - loss: 0.0113 - val_loss: 0.0134\n",
      "Epoch 25/200\n",
      "4/4 [==============================] - 0s 35ms/step - loss: 0.0113 - val_loss: 0.0138\n",
      "Epoch 26/200\n",
      "4/4 [==============================] - 0s 33ms/step - loss: 0.0099 - val_loss: 0.0141\n",
      "Epoch 27/200\n",
      "4/4 [==============================] - 0s 30ms/step - loss: 0.0097 - val_loss: 0.0144\n",
      "Epoch 28/200\n",
      "4/4 [==============================] - 0s 29ms/step - loss: 0.0097 - val_loss: 0.0146\n",
      "Epoch 29/200\n",
      "4/4 [==============================] - 0s 22ms/step - loss: 0.0093 - val_loss: 0.0149\n",
      "Epoch 30/200\n",
      "4/4 [==============================] - 0s 27ms/step - loss: 0.0088 - val_loss: 0.0151\n",
      "Epoch 31/200\n",
      "4/4 [==============================] - 0s 28ms/step - loss: 0.0086 - val_loss: 0.0152\n",
      "Epoch 32/200\n",
      "4/4 [==============================] - 0s 27ms/step - loss: 0.0086 - val_loss: 0.0153\n",
      "Epoch 33/200\n",
      "4/4 [==============================] - 0s 27ms/step - loss: 0.0084 - val_loss: 0.0150\n",
      "Epoch 34/200\n",
      "4/4 [==============================] - 0s 26ms/step - loss: 0.0083 - val_loss: 0.0148\n",
      "Epoch 35/200\n",
      "4/4 [==============================] - 0s 36ms/step - loss: 0.0083 - val_loss: 0.0147\n",
      "Epoch 36/200\n",
      "4/4 [==============================] - 0s 32ms/step - loss: 0.0081 - val_loss: 0.0146\n",
      "Epoch 37/200\n",
      "4/4 [==============================] - 0s 31ms/step - loss: 0.0080 - val_loss: 0.0145\n",
      "Epoch 38/200\n",
      "4/4 [==============================] - 0s 30ms/step - loss: 0.0079 - val_loss: 0.0145\n",
      "Epoch 39/200\n",
      "4/4 [==============================] - 0s 32ms/step - loss: 0.0080 - val_loss: 0.0144\n",
      "Epoch 40/200\n",
      "4/4 [==============================] - 0s 29ms/step - loss: 0.0078 - val_loss: 0.0144\n",
      "Epoch 41/200\n",
      "4/4 [==============================] - 0s 30ms/step - loss: 0.0078 - val_loss: 0.0144\n",
      "Epoch 42/200\n",
      "4/4 [==============================] - 0s 30ms/step - loss: 0.0077 - val_loss: 0.0143\n",
      "Epoch 43/200\n",
      "4/4 [==============================] - 0s 29ms/step - loss: 0.0077 - val_loss: 0.0143\n",
      "Epoch 44/200\n",
      "4/4 [==============================] - 0s 34ms/step - loss: 0.0077 - val_loss: 0.0143\n",
      "Epoch 45/200\n",
      "4/4 [==============================] - 0s 31ms/step - loss: 0.0077 - val_loss: 0.0142\n",
      "Epoch 46/200\n",
      "4/4 [==============================] - 0s 25ms/step - loss: 0.0076 - val_loss: 0.0140\n",
      "Epoch 47/200\n",
      "4/4 [==============================] - 0s 23ms/step - loss: 0.0076 - val_loss: 0.0139\n",
      "Epoch 48/200\n",
      "4/4 [==============================] - 0s 23ms/step - loss: 0.0074 - val_loss: 0.0138\n",
      "Epoch 49/200\n",
      "4/4 [==============================] - 0s 27ms/step - loss: 0.0075 - val_loss: 0.0137\n",
      "Epoch 50/200\n",
      "4/4 [==============================] - 0s 23ms/step - loss: 0.0075 - val_loss: 0.0136\n",
      "Epoch 51/200\n",
      "4/4 [==============================] - 0s 27ms/step - loss: 0.0075 - val_loss: 0.0136\n",
      "Epoch 52/200\n",
      "4/4 [==============================] - 0s 23ms/step - loss: 0.0074 - val_loss: 0.0135\n",
      "Epoch 53/200\n",
      "4/4 [==============================] - 0s 27ms/step - loss: 0.0074 - val_loss: 0.0135\n",
      "Epoch 54/200\n",
      "4/4 [==============================] - 0s 23ms/step - loss: 0.0074 - val_loss: 0.0135\n",
      "Epoch 55/200\n",
      "4/4 [==============================] - 0s 27ms/step - loss: 0.0073 - val_loss: 0.0134\n",
      "Epoch 56/200\n",
      "4/4 [==============================] - 0s 27ms/step - loss: 0.0073 - val_loss: 0.0134\n",
      "Epoch 57/200\n",
      "4/4 [==============================] - 0s 26ms/step - loss: 0.0072 - val_loss: 0.0134\n",
      "Epoch 58/200\n",
      "4/4 [==============================] - 0s 22ms/step - loss: 0.0072 - val_loss: 0.0135\n",
      "Epoch 59/200\n",
      "4/4 [==============================] - 0s 23ms/step - loss: 0.0072 - val_loss: 0.0135\n",
      "Epoch 60/200\n",
      "4/4 [==============================] - 0s 23ms/step - loss: 0.0072 - val_loss: 0.0134\n",
      "Epoch 61/200\n",
      "4/4 [==============================] - 0s 28ms/step - loss: 0.0072 - val_loss: 0.0134\n",
      "Epoch 62/200\n",
      "4/4 [==============================] - 0s 23ms/step - loss: 0.0071 - val_loss: 0.0133\n",
      "Epoch 63/200\n",
      "4/4 [==============================] - 0s 23ms/step - loss: 0.0071 - val_loss: 0.0133\n",
      "Epoch 64/200\n",
      "4/4 [==============================] - 0s 25ms/step - loss: 0.0071 - val_loss: 0.0132\n",
      "Epoch 65/200\n",
      "4/4 [==============================] - 0s 23ms/step - loss: 0.0071 - val_loss: 0.0132\n",
      "Epoch 66/200\n",
      "4/4 [==============================] - 0s 25ms/step - loss: 0.0071 - val_loss: 0.0131\n",
      "Epoch 67/200\n",
      "4/4 [==============================] - 0s 27ms/step - loss: 0.0071 - val_loss: 0.0130\n",
      "Epoch 68/200\n",
      "4/4 [==============================] - 0s 23ms/step - loss: 0.0070 - val_loss: 0.0129\n",
      "Epoch 69/200\n",
      "4/4 [==============================] - 0s 26ms/step - loss: 0.0069 - val_loss: 0.0129\n",
      "Epoch 70/200\n",
      "4/4 [==============================] - 0s 24ms/step - loss: 0.0070 - val_loss: 0.0128\n",
      "Epoch 71/200\n",
      "4/4 [==============================] - 0s 27ms/step - loss: 0.0070 - val_loss: 0.0128\n",
      "Epoch 72/200\n",
      "4/4 [==============================] - 0s 28ms/step - loss: 0.0070 - val_loss: 0.0127\n",
      "Epoch 73/200\n",
      "4/4 [==============================] - 0s 29ms/step - loss: 0.0069 - val_loss: 0.0127\n",
      "Epoch 74/200\n",
      "4/4 [==============================] - 0s 28ms/step - loss: 0.0068 - val_loss: 0.0126\n",
      "Epoch 75/200\n",
      "4/4 [==============================] - 0s 27ms/step - loss: 0.0069 - val_loss: 0.0126\n",
      "Epoch 76/200\n",
      "4/4 [==============================] - 0s 26ms/step - loss: 0.0068 - val_loss: 0.0126\n"
     ]
    },
    {
     "name": "stdout",
     "output_type": "stream",
     "text": [
      "Epoch 77/200\n",
      "4/4 [==============================] - 0s 26ms/step - loss: 0.0068 - val_loss: 0.0125\n",
      "Epoch 78/200\n",
      "4/4 [==============================] - 0s 28ms/step - loss: 0.0069 - val_loss: 0.0126\n",
      "Epoch 79/200\n",
      "4/4 [==============================] - 0s 27ms/step - loss: 0.0068 - val_loss: 0.0126\n",
      "Epoch 80/200\n",
      "4/4 [==============================] - 0s 27ms/step - loss: 0.0068 - val_loss: 0.0126\n",
      "Epoch 81/200\n",
      "4/4 [==============================] - 0s 27ms/step - loss: 0.0067 - val_loss: 0.0125\n",
      "Epoch 82/200\n",
      "4/4 [==============================] - 0s 28ms/step - loss: 0.0068 - val_loss: 0.0125\n",
      "Epoch 83/200\n",
      "4/4 [==============================] - 0s 27ms/step - loss: 0.0067 - val_loss: 0.0124\n",
      "Epoch 84/200\n",
      "4/4 [==============================] - 0s 25ms/step - loss: 0.0067 - val_loss: 0.0123\n",
      "Epoch 85/200\n",
      "4/4 [==============================] - 0s 25ms/step - loss: 0.0066 - val_loss: 0.0122\n",
      "Epoch 86/200\n",
      "4/4 [==============================] - 0s 26ms/step - loss: 0.0067 - val_loss: 0.0122\n",
      "Epoch 87/200\n",
      "4/4 [==============================] - 0s 26ms/step - loss: 0.0067 - val_loss: 0.0121\n",
      "Epoch 88/200\n",
      "4/4 [==============================] - 0s 25ms/step - loss: 0.0067 - val_loss: 0.0121\n",
      "Epoch 89/200\n",
      "4/4 [==============================] - 0s 25ms/step - loss: 0.0066 - val_loss: 0.0120\n",
      "Epoch 90/200\n",
      "4/4 [==============================] - 0s 35ms/step - loss: 0.0067 - val_loss: 0.0120\n",
      "Epoch 91/200\n",
      "4/4 [==============================] - 0s 28ms/step - loss: 0.0066 - val_loss: 0.0119\n",
      "Epoch 92/200\n",
      "4/4 [==============================] - 0s 30ms/step - loss: 0.0066 - val_loss: 0.0119\n",
      "Epoch 93/200\n",
      "4/4 [==============================] - 0s 35ms/step - loss: 0.0066 - val_loss: 0.0118\n",
      "Epoch 94/200\n",
      "4/4 [==============================] - 0s 31ms/step - loss: 0.0066 - val_loss: 0.0118\n",
      "Epoch 95/200\n",
      "4/4 [==============================] - 0s 27ms/step - loss: 0.0066 - val_loss: 0.0118\n",
      "Epoch 96/200\n",
      "4/4 [==============================] - 0s 33ms/step - loss: 0.0066 - val_loss: 0.0117\n",
      "Epoch 97/200\n",
      "4/4 [==============================] - 0s 31ms/step - loss: 0.0065 - val_loss: 0.0117\n",
      "Epoch 98/200\n",
      "4/4 [==============================] - 0s 28ms/step - loss: 0.0065 - val_loss: 0.0116\n",
      "Epoch 99/200\n",
      "4/4 [==============================] - 0s 30ms/step - loss: 0.0066 - val_loss: 0.0116\n",
      "Epoch 100/200\n",
      "4/4 [==============================] - 0s 28ms/step - loss: 0.0065 - val_loss: 0.0115\n",
      "Epoch 101/200\n",
      "4/4 [==============================] - 0s 43ms/step - loss: 0.0065 - val_loss: 0.0114\n",
      "Epoch 102/200\n",
      "4/4 [==============================] - 1s 144ms/step - loss: 0.0065 - val_loss: 0.0113\n",
      "Epoch 103/200\n",
      "4/4 [==============================] - 0s 76ms/step - loss: 0.0064 - val_loss: 0.0113\n",
      "Epoch 104/200\n",
      "4/4 [==============================] - 0s 27ms/step - loss: 0.0065 - val_loss: 0.0113\n",
      "Epoch 105/200\n",
      "4/4 [==============================] - 0s 28ms/step - loss: 0.0064 - val_loss: 0.0113\n",
      "Epoch 106/200\n",
      "4/4 [==============================] - 0s 32ms/step - loss: 0.0064 - val_loss: 0.0112\n",
      "Epoch 107/200\n",
      "4/4 [==============================] - 0s 29ms/step - loss: 0.0066 - val_loss: 0.0112\n",
      "Epoch 108/200\n",
      "4/4 [==============================] - 0s 23ms/step - loss: 0.0064 - val_loss: 0.0112\n",
      "Epoch 109/200\n",
      "4/4 [==============================] - 0s 28ms/step - loss: 0.0064 - val_loss: 0.0112\n",
      "Epoch 110/200\n",
      "4/4 [==============================] - 0s 28ms/step - loss: 0.0064 - val_loss: 0.0111\n",
      "Epoch 111/200\n",
      "4/4 [==============================] - 0s 35ms/step - loss: 0.0063 - val_loss: 0.0111\n",
      "Epoch 112/200\n",
      "4/4 [==============================] - 0s 28ms/step - loss: 0.0063 - val_loss: 0.0110\n",
      "Epoch 113/200\n",
      "4/4 [==============================] - 0s 27ms/step - loss: 0.0064 - val_loss: 0.0110\n",
      "Epoch 114/200\n",
      "4/4 [==============================] - 0s 25ms/step - loss: 0.0063 - val_loss: 0.0109\n",
      "Epoch 115/200\n",
      "4/4 [==============================] - 0s 27ms/step - loss: 0.0063 - val_loss: 0.0109\n",
      "Epoch 116/200\n",
      "4/4 [==============================] - 0s 24ms/step - loss: 0.0063 - val_loss: 0.0108\n",
      "Epoch 117/200\n",
      "4/4 [==============================] - 0s 26ms/step - loss: 0.0062 - val_loss: 0.0108\n",
      "Epoch 118/200\n",
      "4/4 [==============================] - 0s 25ms/step - loss: 0.0063 - val_loss: 0.0107\n",
      "Epoch 119/200\n",
      "4/4 [==============================] - 0s 24ms/step - loss: 0.0063 - val_loss: 0.0107\n",
      "Epoch 120/200\n",
      "4/4 [==============================] - 0s 27ms/step - loss: 0.0063 - val_loss: 0.0106\n",
      "Epoch 121/200\n",
      "4/4 [==============================] - 0s 23ms/step - loss: 0.0063 - val_loss: 0.0106\n",
      "Epoch 122/200\n",
      "4/4 [==============================] - 0s 28ms/step - loss: 0.0062 - val_loss: 0.0106\n",
      "Epoch 123/200\n",
      "4/4 [==============================] - 0s 33ms/step - loss: 0.0062 - val_loss: 0.0105\n",
      "Epoch 124/200\n",
      "4/4 [==============================] - 0s 30ms/step - loss: 0.0063 - val_loss: 0.0105\n",
      "Epoch 125/200\n",
      "4/4 [==============================] - 0s 25ms/step - loss: 0.0062 - val_loss: 0.0104\n",
      "Epoch 126/200\n",
      "4/4 [==============================] - 0s 26ms/step - loss: 0.0062 - val_loss: 0.0104\n",
      "Epoch 127/200\n",
      "4/4 [==============================] - 0s 24ms/step - loss: 0.0062 - val_loss: 0.0103\n",
      "Epoch 128/200\n",
      "4/4 [==============================] - 0s 28ms/step - loss: 0.0062 - val_loss: 0.0103\n",
      "Epoch 129/200\n",
      "4/4 [==============================] - 0s 27ms/step - loss: 0.0062 - val_loss: 0.0103\n",
      "Epoch 130/200\n",
      "4/4 [==============================] - 0s 27ms/step - loss: 0.0062 - val_loss: 0.0102\n",
      "Epoch 131/200\n",
      "4/4 [==============================] - 0s 27ms/step - loss: 0.0062 - val_loss: 0.0102\n",
      "Epoch 132/200\n",
      "4/4 [==============================] - 0s 26ms/step - loss: 0.0062 - val_loss: 0.0101\n",
      "Epoch 133/200\n",
      "4/4 [==============================] - 0s 27ms/step - loss: 0.0062 - val_loss: 0.0101\n",
      "Epoch 134/200\n",
      "4/4 [==============================] - 0s 26ms/step - loss: 0.0062 - val_loss: 0.0100\n",
      "Epoch 135/200\n",
      "4/4 [==============================] - 0s 26ms/step - loss: 0.0061 - val_loss: 0.0100\n",
      "Epoch 136/200\n",
      "4/4 [==============================] - 0s 25ms/step - loss: 0.0062 - val_loss: 0.0099\n",
      "Epoch 137/200\n",
      "4/4 [==============================] - 0s 29ms/step - loss: 0.0061 - val_loss: 0.0099\n",
      "Epoch 138/200\n",
      "4/4 [==============================] - 0s 33ms/step - loss: 0.0061 - val_loss: 0.0098\n",
      "Epoch 139/200\n",
      "4/4 [==============================] - 0s 28ms/step - loss: 0.0061 - val_loss: 0.0098\n",
      "Epoch 140/200\n",
      "4/4 [==============================] - 0s 27ms/step - loss: 0.0061 - val_loss: 0.0097\n",
      "Epoch 141/200\n",
      "4/4 [==============================] - 0s 26ms/step - loss: 0.0061 - val_loss: 0.0097\n",
      "Epoch 142/200\n",
      "4/4 [==============================] - 0s 27ms/step - loss: 0.0061 - val_loss: 0.0097\n",
      "Epoch 143/200\n",
      "4/4 [==============================] - 0s 27ms/step - loss: 0.0061 - val_loss: 0.0096\n",
      "Epoch 144/200\n",
      "4/4 [==============================] - 0s 27ms/step - loss: 0.0061 - val_loss: 0.0096\n",
      "Epoch 145/200\n",
      "4/4 [==============================] - 0s 27ms/step - loss: 0.0061 - val_loss: 0.0096\n",
      "Epoch 146/200\n",
      "4/4 [==============================] - 0s 32ms/step - loss: 0.0060 - val_loss: 0.0095\n",
      "Epoch 147/200\n",
      "4/4 [==============================] - 0s 31ms/step - loss: 0.0061 - val_loss: 0.0095\n",
      "Epoch 148/200\n",
      "4/4 [==============================] - 0s 32ms/step - loss: 0.0060 - val_loss: 0.0095\n",
      "Epoch 149/200\n",
      "4/4 [==============================] - 0s 31ms/step - loss: 0.0060 - val_loss: 0.0095\n",
      "Epoch 150/200\n",
      "4/4 [==============================] - 0s 30ms/step - loss: 0.0061 - val_loss: 0.0094\n",
      "Epoch 151/200\n",
      "4/4 [==============================] - 0s 27ms/step - loss: 0.0060 - val_loss: 0.0094\n",
      "Epoch 152/200\n",
      "4/4 [==============================] - 0s 31ms/step - loss: 0.0060 - val_loss: 0.0094\n",
      "Epoch 153/200\n",
      "4/4 [==============================] - 0s 31ms/step - loss: 0.0060 - val_loss: 0.0093\n",
      "Epoch 154/200\n",
      "4/4 [==============================] - 0s 27ms/step - loss: 0.0060 - val_loss: 0.0093\n",
      "Epoch 155/200\n",
      "4/4 [==============================] - 0s 26ms/step - loss: 0.0060 - val_loss: 0.0093\n",
      "Epoch 156/200\n",
      "4/4 [==============================] - 0s 27ms/step - loss: 0.0060 - val_loss: 0.0092\n",
      "Epoch 157/200\n",
      "4/4 [==============================] - 0s 26ms/step - loss: 0.0060 - val_loss: 0.0092\n",
      "Epoch 158/200\n",
      "4/4 [==============================] - 0s 27ms/step - loss: 0.0060 - val_loss: 0.0092\n",
      "Epoch 159/200\n"
     ]
    },
    {
     "name": "stdout",
     "output_type": "stream",
     "text": [
      "4/4 [==============================] - 0s 27ms/step - loss: 0.0060 - val_loss: 0.0091\n",
      "Epoch 160/200\n",
      "4/4 [==============================] - 0s 26ms/step - loss: 0.0060 - val_loss: 0.0091\n",
      "Epoch 161/200\n",
      "4/4 [==============================] - 0s 26ms/step - loss: 0.0060 - val_loss: 0.0091\n",
      "Epoch 162/200\n",
      "4/4 [==============================] - 0s 29ms/step - loss: 0.0060 - val_loss: 0.0091\n",
      "Epoch 163/200\n",
      "4/4 [==============================] - 0s 25ms/step - loss: 0.0060 - val_loss: 0.0090\n",
      "Epoch 164/200\n",
      "4/4 [==============================] - 0s 26ms/step - loss: 0.0060 - val_loss: 0.0090\n",
      "Epoch 165/200\n",
      "4/4 [==============================] - 0s 27ms/step - loss: 0.0060 - val_loss: 0.0090\n",
      "Epoch 166/200\n",
      "4/4 [==============================] - 0s 27ms/step - loss: 0.0060 - val_loss: 0.0089\n",
      "Epoch 167/200\n",
      "4/4 [==============================] - 0s 26ms/step - loss: 0.0060 - val_loss: 0.0089\n",
      "Epoch 168/200\n",
      "4/4 [==============================] - 0s 25ms/step - loss: 0.0060 - val_loss: 0.0089\n",
      "Epoch 169/200\n",
      "4/4 [==============================] - 0s 26ms/step - loss: 0.0059 - val_loss: 0.0089\n",
      "Epoch 170/200\n",
      "4/4 [==============================] - 0s 22ms/step - loss: 0.0059 - val_loss: 0.0089\n",
      "Epoch 171/200\n",
      "4/4 [==============================] - 0s 33ms/step - loss: 0.0059 - val_loss: 0.0088\n",
      "Epoch 172/200\n",
      "4/4 [==============================] - 0s 29ms/step - loss: 0.0059 - val_loss: 0.0088\n",
      "Epoch 173/200\n",
      "4/4 [==============================] - 0s 29ms/step - loss: 0.0060 - val_loss: 0.0088\n",
      "Epoch 174/200\n",
      "4/4 [==============================] - 0s 29ms/step - loss: 0.0059 - val_loss: 0.0087\n",
      "Epoch 175/200\n",
      "4/4 [==============================] - 0s 28ms/step - loss: 0.0059 - val_loss: 0.0087\n",
      "Epoch 176/200\n",
      "4/4 [==============================] - 0s 27ms/step - loss: 0.0061 - val_loss: 0.0087\n",
      "Epoch 177/200\n",
      "4/4 [==============================] - 0s 29ms/step - loss: 0.0059 - val_loss: 0.0087\n",
      "Epoch 178/200\n",
      "4/4 [==============================] - 0s 27ms/step - loss: 0.0059 - val_loss: 0.0086\n",
      "Epoch 179/200\n",
      "4/4 [==============================] - 0s 27ms/step - loss: 0.0059 - val_loss: 0.0086\n",
      "Epoch 180/200\n",
      "4/4 [==============================] - 0s 23ms/step - loss: 0.0059 - val_loss: 0.0086\n",
      "Epoch 181/200\n",
      "4/4 [==============================] - 0s 27ms/step - loss: 0.0059 - val_loss: 0.0085\n",
      "Epoch 182/200\n",
      "4/4 [==============================] - 0s 27ms/step - loss: 0.0059 - val_loss: 0.0085\n",
      "Epoch 183/200\n",
      "4/4 [==============================] - 0s 27ms/step - loss: 0.0059 - val_loss: 0.0085\n",
      "Epoch 184/200\n",
      "4/4 [==============================] - 0s 23ms/step - loss: 0.0059 - val_loss: 0.0084\n",
      "Epoch 185/200\n",
      "4/4 [==============================] - 0s 26ms/step - loss: 0.0059 - val_loss: 0.0084\n",
      "Epoch 186/200\n",
      "4/4 [==============================] - 0s 25ms/step - loss: 0.0059 - val_loss: 0.0084\n",
      "Epoch 187/200\n",
      "4/4 [==============================] - 0s 24ms/step - loss: 0.0058 - val_loss: 0.0084\n",
      "Epoch 188/200\n",
      "4/4 [==============================] - 0s 25ms/step - loss: 0.0058 - val_loss: 0.0083\n",
      "Epoch 189/200\n",
      "4/4 [==============================] - 0s 27ms/step - loss: 0.0059 - val_loss: 0.0083\n",
      "Epoch 190/200\n",
      "4/4 [==============================] - 0s 25ms/step - loss: 0.0058 - val_loss: 0.0083\n",
      "Epoch 191/200\n",
      "4/4 [==============================] - 0s 26ms/step - loss: 0.0058 - val_loss: 0.0083\n",
      "Epoch 192/200\n",
      "4/4 [==============================] - 0s 26ms/step - loss: 0.0059 - val_loss: 0.0083\n",
      "Epoch 193/200\n",
      "4/4 [==============================] - 0s 23ms/step - loss: 0.0058 - val_loss: 0.0083\n",
      "Epoch 194/200\n",
      "4/4 [==============================] - 0s 23ms/step - loss: 0.0058 - val_loss: 0.0082\n",
      "Epoch 195/200\n",
      "4/4 [==============================] - 0s 23ms/step - loss: 0.0059 - val_loss: 0.0082\n",
      "Epoch 196/200\n",
      "4/4 [==============================] - 0s 23ms/step - loss: 0.0058 - val_loss: 0.0082\n",
      "Epoch 197/200\n",
      "4/4 [==============================] - 0s 27ms/step - loss: 0.0058 - val_loss: 0.0082\n",
      "Epoch 198/200\n",
      "4/4 [==============================] - 0s 24ms/step - loss: 0.0058 - val_loss: 0.0081\n",
      "Epoch 199/200\n",
      "4/4 [==============================] - 0s 23ms/step - loss: 0.0058 - val_loss: 0.0081\n",
      "Epoch 200/200\n",
      "4/4 [==============================] - 0s 27ms/step - loss: 0.0058 - val_loss: 0.0081\n"
     ]
    }
   ],
   "source": [
    "hist = dlModel.fit(X_train, y_train, epochs=200, validation_data=(X_test, y_test))"
   ]
  },
  {
   "cell_type": "code",
   "execution_count": 74,
   "metadata": {},
   "outputs": [
    {
     "data": {
      "image/png": "[encoded data removed]",
      "text/plain": [
       "<Figure size 432x288 with 1 Axes>"
      ]
     },
     "metadata": {
      "needs_background": "light"
     },
     "output_type": "display_data"
    }
   ],
   "source": [
    "plt.plot(hist.history['loss'], 'red', label='loss')\n",
    "plt.plot(hist.history['val_loss'], 'blue', label='val_loss')\n",
    "plt.show()"
   ]
  },
  {
   "cell_type": "code",
   "execution_count": 75,
   "metadata": {},
   "outputs": [
    {
     "data": {
      "text/plain": [
       "[<matplotlib.lines.Line2D at 0x1e0544411f0>]"
      ]
     },
     "execution_count": 75,
     "metadata": {},
     "output_type": "execute_result"
    },
    {
     "data": {
      "image/png": "[encoded data removed]",
      "text/plain": [
       "<Figure size 432x288 with 1 Axes>"
      ]
     },
     "metadata": {
      "needs_background": "light"
     },
     "output_type": "display_data"
    }
   ],
   "source": [
    "y_predict = dlModel.predict(X_test)\n",
    "plt.plot(y_test.ravel()[0: 1000], 'red')\n",
    "plt.plot(y_predict.ravel()[0: 1000], 'green')"
   ]
  },
  {
   "cell_type": "code",
   "execution_count": null,
   "metadata": {},
   "outputs": [],
   "source": []
  }
 ],
 "metadata": {
  "kernelspec": {
   "display_name": "test",
   "language": "python",
   "name": "test"
  },
  "language_info": {
   "codemirror_mode": {
    "name": "ipython",
    "version": 3
   },
   "file_extension": ".py",
   "mimetype": "text/x-python",
   "name": "python",
   "nbconvert_exporter": "python",
   "pygments_lexer": "ipython3",
   "version": "3.8.3"
  }
 },
 "nbformat": 4,
 "nbformat_minor": 4
}
